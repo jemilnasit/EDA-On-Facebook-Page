{
 "cells": [
  {
   "cell_type": "code",
   "execution_count": null,
   "id": "8f19ef49",
   "metadata": {},
   "outputs": [
    {
     "ename": "",
     "evalue": "",
     "output_type": "error",
     "traceback": [
      "\u001b[1;31mRunning cells with 'venv (Python 3.12.1)' requires the ipykernel package.\n",
      "\u001b[1;31mInstall 'ipykernel' into the Python environment. \n",
      "\u001b[1;31mCommand: 'd:/project/social-media-Page-Analysis/venv/Scripts/python.exe -m pip install ipykernel -U --force-reinstall'"
     ]
    }
   ],
   "source": [
    "import pandas as pd\n",
    "import numpy as np\n",
    "import matplotlib.pyplot as plt\n",
    "import seaborn as sns\n",
    "import scipy.stats as stats"
   ]
  },
  {
   "cell_type": "code",
   "execution_count": null,
   "id": "839d641a",
   "metadata": {},
   "outputs": [],
   "source": [
    "df = pd.read_csv('data//dataset_Facebook.csv')\n",
    "df.head()"
   ]
  },
  {
   "cell_type": "code",
   "execution_count": null,
   "id": "5df34dfb",
   "metadata": {},
   "outputs": [],
   "source": [
    "df.columns"
   ]
  },
  {
   "cell_type": "code",
   "execution_count": null,
   "id": "65d64d50",
   "metadata": {},
   "outputs": [],
   "source": [
    "df.columns = ['page_TL','type','category','post_M','post_W','post_H','paid','LPTR','LPTI','LEU','LP_Consumers','LP_consumptions', \\\n",
    "'LPI_PLpage','LPR_PLpage','L_PLP_EP','comment','like','share','TI']\n",
    "df.head()"
   ]
  },
  {
   "cell_type": "code",
   "execution_count": null,
   "id": "ce2076d1",
   "metadata": {},
   "outputs": [],
   "source": [
    "df.isna().sum()"
   ]
  },
  {
   "cell_type": "code",
   "execution_count": null,
   "id": "73523aef",
   "metadata": {},
   "outputs": [],
   "source": [
    "df.value_counts(df['type'])"
   ]
  },
  {
   "cell_type": "code",
   "execution_count": null,
   "id": "adb742e9",
   "metadata": {},
   "outputs": [],
   "source": [
    "df.info()"
   ]
  },
  {
   "cell_type": "code",
   "execution_count": null,
   "id": "a032fea3",
   "metadata": {},
   "outputs": [],
   "source": [
    "df.dropna(inplace=True)"
   ]
  },
  {
   "cell_type": "code",
   "execution_count": null,
   "id": "525cb406",
   "metadata": {},
   "outputs": [],
   "source": [
    "df.describe()"
   ]
  },
  {
   "cell_type": "code",
   "execution_count": null,
   "id": "9fe87e86",
   "metadata": {},
   "outputs": [],
   "source": [
    "df.value_counts(df['paid'])"
   ]
  },
  {
   "cell_type": "code",
   "execution_count": null,
   "id": "8cefdb2d",
   "metadata": {},
   "outputs": [],
   "source": [
    "df.value_counts(df['type'])"
   ]
  },
  {
   "cell_type": "code",
   "execution_count": null,
   "id": "d0290cb5",
   "metadata": {},
   "outputs": [],
   "source": [
    "df['type'] = df['type'].map({'Link': 0, 'Photo': 1, 'Status': 2, 'Video': 3})\n",
    "df = df.drop(['post_M','post_W','post_H'], axis=1)"
   ]
  },
  {
   "cell_type": "markdown",
   "id": "c562359e",
   "metadata": {},
   "source": [
    "##### ♦️ KMean clustering"
   ]
  },
  {
   "cell_type": "code",
   "execution_count": null,
   "id": "7225310b",
   "metadata": {},
   "outputs": [],
   "source": [
    "from sklearn.cluster import KMeans\n",
    "from kneed import KneeLocator\n",
    "\n",
    "wcss = []\n",
    "\n",
    "for i in range(1, 31):\n",
    "    km = KMeans(n_clusters=i, init='k-means++',n_init=10, random_state=0)\n",
    "    model = km.fit(df)\n",
    "    wcss.append(km.inertia_)\n",
    "\n",
    "kl = KneeLocator(range(1, 31), wcss, curve='convex', direction='decreasing')\n",
    "k_point = kl.elbow\n",
    "print(k_point)\n",
    "\n",
    "plt.plot(range(1, 31), wcss, marker='o')\n",
    "plt.axvline(x=k_point, color='r', linestyle='--')\n",
    "plt.title('WCSS vs Number of Clusters')\n",
    "plt.xlabel('Number of Clusters')\n",
    "plt.ylabel('WCSS')\n",
    "plt.show()"
   ]
  },
  {
   "cell_type": "code",
   "execution_count": null,
   "id": "1dbb94d1",
   "metadata": {},
   "outputs": [],
   "source": [
    "from sklearn.cluster import KMeans\n",
    "km = KMeans(n_clusters=5, init='k-means++', n_init=10, random_state=0)\n",
    "model = km.fit(df)\n",
    "df['cluster'] = model.labels_\n",
    "df['cluster'].value_counts()"
   ]
  },
  {
   "cell_type": "code",
   "execution_count": null,
   "id": "de6a7c2b",
   "metadata": {},
   "outputs": [],
   "source": [
    "cluster_summary = df.groupby('cluster')[df.columns].mean()\n",
    "cluster_summary.T"
   ]
  },
  {
   "cell_type": "code",
   "execution_count": null,
   "id": "c7616a37",
   "metadata": {},
   "outputs": [],
   "source": [
    "cluster_summary_of_type = df.groupby('cluster')['type'].value_counts()\n",
    "\n",
    "cluster_summary_of_type"
   ]
  },
  {
   "cell_type": "code",
   "execution_count": null,
   "id": "afc4e94a",
   "metadata": {},
   "outputs": [],
   "source": [
    "from sklearn.metrics import silhouette_score\n",
    "ss_km = silhouette_score(df, df['cluster'])\n",
    "print(ss_km)"
   ]
  },
  {
   "cell_type": "code",
   "execution_count": null,
   "id": "5a8e32c4",
   "metadata": {},
   "outputs": [],
   "source": [
    "plt.plot(df['cluster'], df['TI'], 'o')\n",
    "plt.show()"
   ]
  },
  {
   "cell_type": "code",
   "execution_count": null,
   "id": "8b25d15e",
   "metadata": {},
   "outputs": [],
   "source": [
    "plt.scatter(df['LPTR'], df['LPTI'], c=df['cluster'], s=50, cmap='viridis')\n",
    "plt.title('Clusters based on LPTR and LPTI')\n",
    "plt.xlabel('LPTR')\n",
    "plt.ylabel('LPTI')\n",
    "plt.show()"
   ]
  },
  {
   "cell_type": "markdown",
   "id": "7945b44b",
   "metadata": {},
   "source": [
    "for green and blue clusters there is life time total reach is low but high impression. "
   ]
  },
  {
   "cell_type": "code",
   "execution_count": null,
   "id": "eff8ae93",
   "metadata": {},
   "outputs": [],
   "source": [
    "print(df.groupby(df['cluster']==1)['category'].value_counts())\n",
    "print(df.groupby(df['cluster']==3)['category'].value_counts())"
   ]
  },
  {
   "cell_type": "code",
   "execution_count": null,
   "id": "4550cc9d",
   "metadata": {},
   "outputs": [],
   "source": [
    "from sklearn.decomposition import PCA\n",
    "pca = PCA(n_components=2)\n",
    "X = df.drop(['cluster'], axis=1)\n",
    "pca_scaled = pca.fit_transform(X)\n",
    "\n",
    "plt.scatter(pca_scaled[:, 0], pca_scaled[:, 1], c=df['cluster'], s=50, cmap='viridis')\n",
    "plt.title('PCA of Clusters')\n",
    "plt.xlabel('PCA Component 1')\n",
    "plt.ylabel('PCA Component 2')\n",
    "plt.show()"
   ]
  },
  {
   "cell_type": "markdown",
   "id": "ddb05a3a",
   "metadata": {},
   "source": [
    "category 3 and 1 has high impression and low reach."
   ]
  },
  {
   "cell_type": "code",
   "execution_count": null,
   "id": "ead4067d",
   "metadata": {},
   "outputs": [],
   "source": [
    "df.drop(['cluster','comment','like','share','page_TL'], axis=1, inplace=True)"
   ]
  },
  {
   "cell_type": "code",
   "execution_count": null,
   "id": "7eb3fc5a",
   "metadata": {},
   "outputs": [],
   "source": [
    "df"
   ]
  },
  {
   "cell_type": "markdown",
   "id": "67292256",
   "metadata": {},
   "source": [
    "##### ♦️ standardize the data"
   ]
  },
  {
   "cell_type": "code",
   "execution_count": null,
   "id": "87546cb2",
   "metadata": {},
   "outputs": [],
   "source": [
    "from sklearn.preprocessing import StandardScaler\n",
    "scaler = StandardScaler()\n",
    "x_scaled = scaler.fit_transform(df)\n",
    "x_scaled.shape            "
   ]
  },
  {
   "cell_type": "code",
   "execution_count": null,
   "id": "9283e6e6",
   "metadata": {},
   "outputs": [],
   "source": [
    "from sklearn.decomposition import PCA\n",
    "pca = PCA(n_components=2)\n",
    "pca_scaled = pca.fit_transform(x_scaled)\n",
    "pca_scaled.shape"
   ]
  },
  {
   "cell_type": "code",
   "execution_count": null,
   "id": "568cddfd",
   "metadata": {},
   "outputs": [],
   "source": [
    "plt.scatter(pca_scaled[:, 0], pca_scaled[:, 1])"
   ]
  },
  {
   "cell_type": "markdown",
   "id": "a27d112d",
   "metadata": {},
   "source": [
    "##### ♦️ Hierarchycal clustering"
   ]
  },
  {
   "cell_type": "code",
   "execution_count": null,
   "id": "00211f8a",
   "metadata": {},
   "outputs": [],
   "source": [
    "import scipy.cluster.hierarchy as sc\n",
    "\n",
    "plt.figure(figsize=(10, 7))\n",
    "sc.dendrogram(sc.linkage(pca_scaled, method='ward'))\n",
    "plt.title('Dendrogram')\n",
    "plt.xlabel('Samples')\n",
    "plt.ylabel('Distance')\n",
    "plt.show()"
   ]
  },
  {
   "cell_type": "markdown",
   "id": "67fce8dc",
   "metadata": {},
   "source": [
    "here according to dendrogram value of k is 2"
   ]
  },
  {
   "cell_type": "code",
   "execution_count": null,
   "id": "110832b8",
   "metadata": {},
   "outputs": [],
   "source": [
    "from sklearn.cluster import AgglomerativeClustering\n",
    "hc = AgglomerativeClustering(n_clusters=2, linkage='ward')\n",
    "hc.fit(x_scaled)"
   ]
  },
  {
   "cell_type": "code",
   "execution_count": null,
   "id": "5ce107e0",
   "metadata": {},
   "outputs": [],
   "source": [
    "hc.labels_"
   ]
  },
  {
   "cell_type": "code",
   "execution_count": null,
   "id": "3d8de726",
   "metadata": {},
   "outputs": [],
   "source": [
    "plt.scatter(pca_scaled[:, 0], pca_scaled[:, 1], c=hc.labels_, s=50, cmap='viridis')\n",
    "plt.title('Agglomerative Clustering of PCA Components')\n",
    "plt.xlabel('PCA Component 1')\n",
    "plt.ylabel('PCA Component 2')\n",
    "plt.show()"
   ]
  },
  {
   "cell_type": "code",
   "execution_count": null,
   "id": "ae97e1e1",
   "metadata": {},
   "outputs": [],
   "source": [
    "from sklearn.metrics import silhouette_score\n",
    "ss_hc = silhouette_score(x_scaled, hc.labels_)\n",
    "print(ss_hc)"
   ]
  },
  {
   "cell_type": "code",
   "execution_count": null,
   "id": "5611c7e7",
   "metadata": {},
   "outputs": [],
   "source": [
    "df.corr()['L_PLP_EP'].sort_values(ascending=False)"
   ]
  },
  {
   "cell_type": "code",
   "execution_count": null,
   "id": "4975d9d3",
   "metadata": {},
   "outputs": [],
   "source": [
    "plt.plot(df['L_PLP_EP'], df['LPTR'], 'o')\n",
    "plt.title('L_PLP_EP vs LPTR')\n",
    "plt.xlabel('Lifetime People who have liked your Page and engaged with your post')\n",
    "plt.ylabel('Lifetime Post Total Reach')\n",
    "plt.show()"
   ]
  },
  {
   "cell_type": "markdown",
   "id": "e2c7b525",
   "metadata": {},
   "source": [
    "in this mostly we show is lifetime post reach is low then Lifetime People who have liked your Page and engaged with your post is also low."
   ]
  },
  {
   "cell_type": "code",
   "execution_count": null,
   "id": "8f7b3ee7",
   "metadata": {},
   "outputs": [],
   "source": [
    "reach_threshold = 60000\n",
    "engaged_threshold = 1500\n",
    "\n",
    "colors = [\n",
    "    'green' if ((r < reach_threshold) and (e > engaged_threshold)) \n",
    "    else 'red' if ((r > reach_threshold) and (e < engaged_threshold)) \n",
    "    else 'blue' for r, e in zip(df['LPTR'], df['L_PLP_EP'])\n",
    "]\n",
    "\n",
    "plt.scatter(df['L_PLP_EP'], df['LPTR'], c=colors, s=50)\n",
    "plt.title('Scatter plot of LPTR and L_PLP_EP with thresholds')\n",
    "plt.xlabel('Lifetime People who have liked your Page and engaged with your post')\n",
    "plt.ylabel('Lifetime Post Total Reach')\n",
    "plt.show()"
   ]
  },
  {
   "cell_type": "markdown",
   "id": "df70a8b6",
   "metadata": {},
   "source": [
    "🌟 in this graph green data points states that it has a low reach but high engagement so that is a good post for people or for organization and red data points states that it has a high reach but low engagement so that type of post is not entertain the people and blue data point is everage posts that increase exponantialy."
   ]
  },
  {
   "cell_type": "markdown",
   "id": "25156019",
   "metadata": {},
   "source": [
    "##### ♦️ DBSCAN clustering"
   ]
  },
  {
   "cell_type": "code",
   "execution_count": null,
   "id": "39bda53b",
   "metadata": {},
   "outputs": [],
   "source": [
    "from sklearn.cluster import DBSCAN\n",
    "\n",
    "dbscan = DBSCAN(eps=1.3, min_samples=5)\n",
    "dbscan.fit(x_scaled)\n",
    "labels = dbscan.labels_"
   ]
  },
  {
   "cell_type": "code",
   "execution_count": null,
   "id": "5656f0df",
   "metadata": {},
   "outputs": [],
   "source": [
    "x = labels != -1"
   ]
  },
  {
   "cell_type": "code",
   "execution_count": null,
   "id": "50ac28fb",
   "metadata": {},
   "outputs": [],
   "source": [
    "from sklearn.decomposition import PCA\n",
    "pca = PCA(n_components=2)\n",
    "pca_scaled = pca.fit_transform(x_scaled)\n",
    "pca_filtered = pca_scaled[x]\n",
    "labels_filtered = labels[x]\n",
    "\n",
    "plt.scatter(pca_filtered[:, 0], pca_filtered[:, 1], c=labels_filtered, s=50, cmap='viridis')\n",
    "plt.title('DBSCAN Clustering of PCA Components')\n",
    "plt.xlabel('PCA Component 1')\n",
    "plt.ylabel('PCA Component 2')\n",
    "plt.show()"
   ]
  },
  {
   "cell_type": "code",
   "execution_count": null,
   "id": "5d57141c",
   "metadata": {},
   "outputs": [],
   "source": [
    "from sklearn.metrics import silhouette_score\n",
    "ss_db = silhouette_score(x_scaled, labels)\n",
    "print(ss_db)"
   ]
  },
  {
   "cell_type": "code",
   "execution_count": null,
   "id": "5d9579ac",
   "metadata": {},
   "outputs": [],
   "source": [
    "score = [ss_km, ss_hc, ss_db]\n",
    "method = ['KMeans', 'Agglomerative', 'DBSCAN']\n",
    "\n",
    "plt.bar(method, score, color=['green', 'gray', 'red'], width=0.4)\n",
    "plt.ylim(0, 1)\n",
    "plt.title('Silhouette Score of Different Clustering Methods')\n",
    "plt.xlabel('Clustering Method')\n",
    "plt.ylabel('Silhouette Score')\n",
    "plt.show()"
   ]
  },
  {
   "cell_type": "markdown",
   "id": "fa388dd2",
   "metadata": {},
   "source": [
    "🌟 KMeans method has highest silhouette score for this data and DBSCAN has less score then KMean and agglomerative method for this perticuler data."
   ]
  },
  {
   "cell_type": "code",
   "execution_count": null,
   "id": "afffa647",
   "metadata": {},
   "outputs": [],
   "source": []
  },
  {
   "cell_type": "code",
   "execution_count": null,
   "id": "efb994be",
   "metadata": {},
   "outputs": [],
   "source": [
    "df[df['TI'] == df['TI'].max()]"
   ]
  },
  {
   "cell_type": "markdown",
   "id": "2f9cb13d",
   "metadata": {},
   "source": [
    "category 2 has highest intrection and it is paid in this post the total number of reach is lower then total impretion so i think it has a fake interaction"
   ]
  }
 ],
 "metadata": {
  "kernelspec": {
   "display_name": "venv",
   "language": "python",
   "name": "python3"
  },
  "language_info": {
   "codemirror_mode": {
    "name": "ipython",
    "version": 3
   },
   "file_extension": ".py",
   "mimetype": "text/x-python",
   "name": "python",
   "nbconvert_exporter": "python",
   "pygments_lexer": "ipython3",
   "version": "3.12.1"
  }
 },
 "nbformat": 4,
 "nbformat_minor": 5
}
